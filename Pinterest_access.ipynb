{
  "nbformat": 4,
  "nbformat_minor": 0,
  "metadata": {
    "colab": {
      "name": "Pinterest access.ipynb",
      "provenance": []
    },
    "kernelspec": {
      "name": "python3",
      "display_name": "Python 3"
    }
  },
  "cells": [
    {
      "cell_type": "code",
      "metadata": {
        "id": "ZXJDP5IJWKpG",
        "colab_type": "code",
        "colab": {
          "base_uri": "https://localhost:8080/",
          "height": 118
        },
        "outputId": "12026a3e-9ea5-4d1b-9633-420870c110c1"
      },
      "source": [
        "pip install pinterest-api"
      ],
      "execution_count": 2,
      "outputs": [
        {
          "output_type": "stream",
          "text": [
            "Requirement already satisfied: pinterest-api in /usr/local/lib/python3.6/dist-packages (0.0.8)\n",
            "Requirement already satisfied: requests in /usr/local/lib/python3.6/dist-packages (from pinterest-api) (2.21.0)\n",
            "Requirement already satisfied: urllib3<1.25,>=1.21.1 in /usr/local/lib/python3.6/dist-packages (from requests->pinterest-api) (1.24.3)\n",
            "Requirement already satisfied: chardet<3.1.0,>=3.0.2 in /usr/local/lib/python3.6/dist-packages (from requests->pinterest-api) (3.0.4)\n",
            "Requirement already satisfied: idna<2.9,>=2.5 in /usr/local/lib/python3.6/dist-packages (from requests->pinterest-api) (2.8)\n",
            "Requirement already satisfied: certifi>=2017.4.17 in /usr/local/lib/python3.6/dist-packages (from requests->pinterest-api) (2019.11.28)\n"
          ],
          "name": "stdout"
        }
      ]
    },
    {
      "cell_type": "code",
      "metadata": {
        "id": "uC0-HeH7PpcK",
        "colab_type": "code",
        "colab": {}
      },
      "source": [
        "import pinterest"
      ],
      "execution_count": 0,
      "outputs": []
    },
    {
      "cell_type": "code",
      "metadata": {
        "id": "vdMsVBCmPyUH",
        "colab_type": "code",
        "colab": {}
      },
      "source": [
        "# Generate OAuth2 authorization link\n",
        "link = pinterest.oauth2.authorization_url(5076711255618663896, \"http://localhost:8888/\")"
      ],
      "execution_count": 0,
      "outputs": []
    },
    {
      "cell_type": "code",
      "metadata": {
        "id": "Ge0HkFg6PzP9",
        "colab_type": "code",
        "colab": {}
      },
      "source": [
        "# Initialize API by passing OAuth2 token\n",
        "api = pinterest.Pinterest(token=\"Air761BuzHQVHA8SH9mXsNS43_mHFejXaSmfdwFGdCfPDkC_cAjMwDAAAxBARnQqx00Avt0AAAAA\")"
      ],
      "execution_count": 0,
      "outputs": []
    },
    {
      "cell_type": "code",
      "metadata": {
        "id": "gLoGLiC0Rz9w",
        "colab_type": "code",
        "colab": {
          "base_uri": "https://localhost:8080/",
          "height": 101
        },
        "outputId": "6753b4bc-396a-4666-b499-018996d6ffde"
      },
      "source": [
        "# Fetch authenticated user's data\n",
        "api.me()"
      ],
      "execution_count": 14,
      "outputs": [
        {
          "output_type": "execute_result",
          "data": {
            "text/plain": [
              "{'data': {'first_name': 'Dilyara',\n",
              "  'id': '634092959943561280',\n",
              "  'last_name': 'Val',\n",
              "  'url': 'https://www.pinterest.com/dilyaraval/'},\n",
              " 'ratelimit': {'limit': 5, 'remaining': 4}}"
            ]
          },
          "metadata": {
            "tags": []
          },
          "execution_count": 14
        }
      ]
    },
    {
      "cell_type": "code",
      "metadata": {
        "id": "eqKofhzLR4d0",
        "colab_type": "code",
        "colab": {
          "base_uri": "https://localhost:8080/",
          "height": 34
        },
        "outputId": "e2bc1ac0-aabb-479a-93f6-f31165e9584c"
      },
      "source": [
        "# Fetch authenticated user's boards\n",
        "api.boards()"
      ],
      "execution_count": 15,
      "outputs": [
        {
          "output_type": "execute_result",
          "data": {
            "text/plain": [
              "{'data': [], 'ratelimit': {'limit': 5, 'remaining': 3}}"
            ]
          },
          "metadata": {
            "tags": []
          },
          "execution_count": 15
        }
      ]
    },
    {
      "cell_type": "code",
      "metadata": {
        "id": "H4zHOZyrwweV",
        "colab_type": "code",
        "colab": {
          "base_uri": "https://localhost:8080/",
          "height": 84
        },
        "outputId": "38a1154e-ec18-427e-bbb4-ac1381469f7a"
      },
      "source": [
        "# Create board\n",
        "api.board().create(\"Halloween\", description=\"Fun Costumes\")"
      ],
      "execution_count": 16,
      "outputs": [
        {
          "output_type": "execute_result",
          "data": {
            "text/plain": [
              "{'data': {'id': '634092891224424792',\n",
              "  'name': 'Halloween',\n",
              "  'url': 'https://www.pinterest.com/dilyaraval/halloween/'},\n",
              " 'ratelimit': {'limit': 5, 'remaining': 2}}"
            ]
          },
          "metadata": {
            "tags": []
          },
          "execution_count": 16
        }
      ]
    },
    {
      "cell_type": "code",
      "metadata": {
        "id": "MUZ1NF6vw2PM",
        "colab_type": "code",
        "colab": {}
      },
      "source": [
        ""
      ],
      "execution_count": 0,
      "outputs": []
    }
  ]
}